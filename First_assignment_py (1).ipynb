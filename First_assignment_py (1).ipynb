{
  "cells": [
    {
      "cell_type": "code",
      "execution_count": null,
      "id": "a3edd858-0cf4-4a9c-9503-2b396113cb64",
      "metadata": {
        "id": "a3edd858-0cf4-4a9c-9503-2b396113cb64",
        "outputId": "0458efcd-4f82-41f3-f603-205816040c31"
      },
      "outputs": [
        {
          "name": "stdout",
          "output_type": "stream",
          "text": [
            "Muhammad Ahsan 19\n"
          ]
        }
      ],
      "source": [
        "print(\"Muhammad Ahsan\" , 19)"
      ]
    },
    {
      "cell_type": "code",
      "execution_count": null,
      "id": "b7963055-60ba-4572-91bf-d79f3103c94b",
      "metadata": {
        "id": "b7963055-60ba-4572-91bf-d79f3103c94b",
        "outputId": "1d8adb70-651d-493b-8cc1-ca8679ea97bc"
      },
      "outputs": [
        {
          "name": "stdout",
          "output_type": "stream",
          "text": [
            "Muhammad Ahsan ,19\n"
          ]
        }
      ],
      "source": [
        "print(\"Muhammad Ahsan\", 19, sep = \" ,\")"
      ]
    },
    {
      "cell_type": "code",
      "execution_count": null,
      "id": "3e6a0957-2cd5-4430-a474-b876ee8dd947",
      "metadata": {
        "id": "3e6a0957-2cd5-4430-a474-b876ee8dd947",
        "outputId": "fd258463-3793-41e4-a874-924c4128611d"
      },
      "outputs": [
        {
          "name": "stdout",
          "output_type": "stream",
          "text": [
            "1-2-3-4-5\n"
          ]
        }
      ],
      "source": [
        "print(1,2,3,4,5 , sep = \"-\")"
      ]
    },
    {
      "cell_type": "code",
      "execution_count": null,
      "id": "2eb47204-1800-449b-93e6-2902e7b8f5f6",
      "metadata": {
        "id": "2eb47204-1800-449b-93e6-2902e7b8f5f6",
        "outputId": "54bb333f-0386-41c2-8865-0ded2d18205e"
      },
      "outputs": [
        {
          "name": "stdout",
          "output_type": "stream",
          "text": [
            "1|2|3|4|5\n"
          ]
        }
      ],
      "source": [
        "print(1,2,3,4,5, sep = \"|\")"
      ]
    },
    {
      "cell_type": "code",
      "execution_count": null,
      "id": "4af21fef-4dbc-41bc-baf4-6a0c6f567118",
      "metadata": {
        "id": "4af21fef-4dbc-41bc-baf4-6a0c6f567118",
        "outputId": "ecca109e-3f91-4d2f-f1ea-06bbbfe95ee2"
      },
      "outputs": [
        {
          "name": "stdout",
          "output_type": "stream",
          "text": [
            "1,2,3,4,5\n"
          ]
        }
      ],
      "source": [
        "print(1,2,3,4,5, sep = \",\")"
      ]
    },
    {
      "cell_type": "code",
      "execution_count": null,
      "id": "1b92bde3-dab4-4fa6-822b-424ebac8c484",
      "metadata": {
        "id": "1b92bde3-dab4-4fa6-822b-424ebac8c484",
        "outputId": "c4c715e7-7fb8-404b-9e75-a6bb4d3f1db0"
      },
      "outputs": [
        {
          "name": "stdout",
          "output_type": "stream",
          "text": [
            "Hello World! I am learning Python\n"
          ]
        }
      ],
      "source": [
        "print(\"Hello World!\", end = \" \")\n",
        "print(\"I am learning Python\")\n"
      ]
    },
    {
      "cell_type": "code",
      "execution_count": null,
      "id": "6ec52fc4-a625-489e-892c-a8bac970bfed",
      "metadata": {
        "id": "6ec52fc4-a625-489e-892c-a8bac970bfed",
        "outputId": "adf79a3e-6c21-47c5-da3b-ac193ef4ec3d"
      },
      "outputs": [
        {
          "name": "stdout",
          "output_type": "stream",
          "text": [
            "*\n",
            "* *\n",
            "* * *\n",
            "* * * *\n"
          ]
        }
      ],
      "source": [
        "print(\"*\")\n",
        "print(\"* *\")\n",
        "print(\"* * *\")\n",
        "print(\"* * * *\")"
      ]
    },
    {
      "cell_type": "code",
      "execution_count": null,
      "id": "7053f6ed-ffaf-4d86-9b2f-9162c16d5a82",
      "metadata": {
        "id": "7053f6ed-ffaf-4d86-9b2f-9162c16d5a82",
        "outputId": "b7c9e545-6c4b-4d55-ba40-2bc12b10a0be"
      },
      "outputs": [
        {
          "name": "stdout",
          "output_type": "stream",
          "text": [
            " My name is Muhammad Ahsan , my age is 19 , and my city name is Karachi,"
          ]
        }
      ],
      "source": [
        "name = \" My name is Muhammad Ahsan\"\n",
        "age = \", my age is 19\"\n",
        "city = \", and my city name is Karachi\"\n",
        "print( name , age , city , end = \",\")"
      ]
    },
    {
      "cell_type": "code",
      "execution_count": null,
      "id": "f95ec876-c327-4b17-8942-40e5b4306774",
      "metadata": {
        "id": "f95ec876-c327-4b17-8942-40e5b4306774",
        "outputId": "b5040a74-8c73-4a66-ce88-d7041ac34d72"
      },
      "outputs": [
        {
          "name": "stdout",
          "output_type": "stream",
          "text": [
            " My name is Muhammad Ahsan, my age is 19, and my city name is Karachi\n"
          ]
        }
      ],
      "source": [
        "print(name + age + city)"
      ]
    },
    {
      "cell_type": "code",
      "execution_count": null,
      "id": "8510c5b7-7116-4d84-962c-8daf1e445298",
      "metadata": {
        "id": "8510c5b7-7116-4d84-962c-8daf1e445298",
        "outputId": "7f11e135-d6ea-427f-e833-7fe84dd086f4"
      },
      "outputs": [
        {
          "name": "stdout",
          "output_type": "stream",
          "text": [
            "30\n",
            "10\n",
            "200\n",
            "0.5\n"
          ]
        }
      ],
      "source": [
        "a = 10\n",
        "b = 20\n",
        "print(a+b)\n",
        "print(b-a)\n",
        "print(10*20)\n",
        "print(10/20)\n"
      ]
    },
    {
      "cell_type": "code",
      "execution_count": null,
      "id": "3126fcc4-9154-4d1d-a166-1ead15023c83",
      "metadata": {
        "id": "3126fcc4-9154-4d1d-a166-1ead15023c83",
        "outputId": "a2bdc3fe-a8f2-4216-d46b-f10474bca7c1"
      },
      "outputs": [
        {
          "name": "stdout",
          "output_type": "stream",
          "text": [
            "15\n",
            "25\n",
            "35\n",
            "45\n"
          ]
        }
      ],
      "source": [
        "a = 15\n",
        "b = 25\n",
        "print(a)\n",
        "print(b)\n",
        "a = 35\n",
        "b = 45\n",
        "print(a)\n",
        "print(b)\n"
      ]
    },
    {
      "cell_type": "code",
      "execution_count": 1,
      "id": "6bbe0d79-3503-4f10-9b36-93f600114f52",
      "metadata": {
        "colab": {
          "base_uri": "https://localhost:8080/"
        },
        "id": "6bbe0d79-3503-4f10-9b36-93f600114f52",
        "outputId": "6db606a2-90e2-4ab5-ad04-43daadca0e0b"
      },
      "outputs": [
        {
          "output_type": "stream",
          "name": "stdout",
          "text": [
            "Area of circle is 78.53975\n"
          ]
        }
      ],
      "source": [
        "pi = 3.14159\n",
        "r = 5\n",
        "print(f\"Area of circle is {pi*r**2}\")"
      ]
    },
    {
      "cell_type": "code",
      "execution_count": 2,
      "id": "e76c4d0a-0b82-4ed2-ba74-a541a23f359b",
      "metadata": {
        "colab": {
          "base_uri": "https://localhost:8080/"
        },
        "id": "e76c4d0a-0b82-4ed2-ba74-a541a23f359b",
        "outputId": "58d97922-a825-4b59-d679-9f7d03298875"
      },
      "outputs": [
        {
          "output_type": "stream",
          "name": "stdout",
          "text": [
            "5\n",
            "10\n"
          ]
        }
      ],
      "source": [
        "a = 5\n",
        "b = 10\n",
        "print(a)\n",
        "print(b)\n"
      ]
    },
    {
      "cell_type": "code",
      "source": [
        "a,b = b,a\n",
        "print(a)\n",
        "print(b)"
      ],
      "metadata": {
        "colab": {
          "base_uri": "https://localhost:8080/"
        },
        "id": "GgjMORFgbXML",
        "outputId": "ccb9aaba-3a46-46f6-ecd5-0f13d67ae87b"
      },
      "id": "GgjMORFgbXML",
      "execution_count": 3,
      "outputs": [
        {
          "output_type": "stream",
          "name": "stdout",
          "text": [
            "10\n",
            "5\n"
          ]
        }
      ]
    }
  ],
  "metadata": {
    "kernelspec": {
      "display_name": "Python 3 (ipykernel)",
      "language": "python",
      "name": "python3"
    },
    "language_info": {
      "codemirror_mode": {
        "name": "ipython",
        "version": 3
      },
      "file_extension": ".py",
      "mimetype": "text/x-python",
      "name": "python",
      "nbconvert_exporter": "python",
      "pygments_lexer": "ipython3",
      "version": "3.13.5"
    },
    "colab": {
      "provenance": []
    }
  },
  "nbformat": 4,
  "nbformat_minor": 5
}