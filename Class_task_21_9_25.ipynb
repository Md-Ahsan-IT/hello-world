{
  "nbformat": 4,
  "nbformat_minor": 0,
  "metadata": {
    "colab": {
      "provenance": []
    },
    "kernelspec": {
      "name": "python3",
      "display_name": "Python 3"
    },
    "language_info": {
      "name": "python"
    }
  },
  "cells": [
    {
      "cell_type": "code",
      "execution_count": 25,
      "metadata": {
        "colab": {
          "base_uri": "https://localhost:8080/"
        },
        "id": "ERlQtZLsI57O",
        "outputId": "88af1560-a7b7-4581-93b3-1fc57e60fb1f"
      },
      "outputs": [
        {
          "output_type": "stream",
          "name": "stdout",
          "text": [
            "MUHAMMAD AHSAN\n",
            "muhammad ahsan\n",
            "Muhammad ahsan\n"
          ]
        }
      ],
      "source": [
        "#Task 1:\n",
        "name = \"Muhammad Ahsan\"\n",
        "print(name.upper())\n",
        "print(name.lower())\n",
        "print(name.capitalize())"
      ]
    },
    {
      "cell_type": "code",
      "source": [
        "#Task 2:\n",
        "a = input(\"Enter a sentence: \")\n",
        "print(a.count('the'))"
      ],
      "metadata": {
        "colab": {
          "base_uri": "https://localhost:8080/"
        },
        "id": "uoY5lXURKkSM",
        "outputId": "727b20ce-d387-4249-9410-550aa5f350df"
      },
      "execution_count": null,
      "outputs": [
        {
          "output_type": "stream",
          "name": "stdout",
          "text": [
            "Enter a sentence: Karachi is the biggest city of the pakistan\n",
            "2\n"
          ]
        }
      ]
    },
    {
      "cell_type": "code",
      "source": [
        "#Task 3:\n",
        "class1 = \"Ai and data science \"\n",
        "print(class1.strip())\n",
        "print(class1.replace(\" \", \"-\"))"
      ],
      "metadata": {
        "colab": {
          "base_uri": "https://localhost:8080/"
        },
        "id": "HrKuW4SfN6wR",
        "outputId": "68c4d237-22ac-4726-b7b2-35d6c262e235"
      },
      "execution_count": 27,
      "outputs": [
        {
          "output_type": "stream",
          "name": "stdout",
          "text": [
            "Ai and data science\n",
            "Ai-and-data-science-\n"
          ]
        }
      ]
    },
    {
      "cell_type": "code",
      "source": [
        "#Task 3:\n",
        "class1 = input(\"enter any string: \")\n",
        "print(class1.strip())\n",
        "print(class1.replace(\" \", \"-\"))\n"
      ],
      "metadata": {
        "colab": {
          "base_uri": "https://localhost:8080/"
        },
        "id": "nXCpA_a0K9zP",
        "outputId": "3944bd12-6b64-4b07-f3c4-dfddb8b5a39c"
      },
      "execution_count": null,
      "outputs": [
        {
          "output_type": "stream",
          "name": "stdout",
          "text": [
            "enter any string: Ai and Data Science \n",
            "Ai and Data Science\n",
            "Ai-and-Data-Science-\n"
          ]
        }
      ]
    },
    {
      "cell_type": "code",
      "source": [
        "#Task 4:\n",
        "a = \"Hello world\"\n",
        "print(a.startswith(\"Hello\"))\n",
        "print(a.endswith(\"world\"))"
      ],
      "metadata": {
        "colab": {
          "base_uri": "https://localhost:8080/"
        },
        "id": "VyVsajb9NIPE",
        "outputId": "0d7c4b2c-b1b4-4aa0-e022-56512f8ed98d"
      },
      "execution_count": null,
      "outputs": [
        {
          "output_type": "stream",
          "name": "stdout",
          "text": [
            "True\n",
            "True\n"
          ]
        }
      ]
    },
    {
      "cell_type": "code",
      "source": [
        "#Task 5:\n",
        "fruit = \"banana\"\n",
        "print(fruit.count(\"a\"))"
      ],
      "metadata": {
        "colab": {
          "base_uri": "https://localhost:8080/"
        },
        "id": "4cDzPR5lPYlb",
        "outputId": "23db2a85-3d56-4194-abd4-edbff5ad6d09"
      },
      "execution_count": null,
      "outputs": [
        {
          "output_type": "stream",
          "name": "stdout",
          "text": [
            "3\n"
          ]
        }
      ]
    },
    {
      "cell_type": "code",
      "source": [
        "#Task 6:\n",
        "age = \"My age is 19\"\n",
        "print(age)\n",
        "age2=(age.split(\" \"))\n",
        "print(age2)\n",
        "a=\"\\n\".join(age2)\n",
        "print(a)"
      ],
      "metadata": {
        "colab": {
          "base_uri": "https://localhost:8080/"
        },
        "id": "9F9Tse86PnDH",
        "outputId": "010cc66f-7bef-4395-a457-c946b64da94f"
      },
      "execution_count": 38,
      "outputs": [
        {
          "output_type": "stream",
          "name": "stdout",
          "text": [
            "My age is 19\n",
            "['My', 'age', 'is', '19']\n",
            "My\n",
            "age\n",
            "is\n",
            "19\n"
          ]
        }
      ]
    },
    {
      "cell_type": "code",
      "source": [
        "#Task 7:\n",
        "user_input = input(\"Enter something: \")\n",
        "print(user_input.isdigit())\n",
        "numbers= input(\"enter any digits: \")\n",
        "(numbers.isdigit())\n",
        "print(numbers.isdigit())"
      ],
      "metadata": {
        "colab": {
          "base_uri": "https://localhost:8080/"
        },
        "id": "TLSvoWKJymra",
        "outputId": "df26eb66-29d1-488b-e7d3-e58a020b90e1"
      },
      "execution_count": 5,
      "outputs": [
        {
          "output_type": "stream",
          "name": "stdout",
          "text": [
            "Enter something: Ahsan12345\n",
            "False\n",
            "enter any digits: 789654\n",
            "True\n"
          ]
        }
      ]
    },
    {
      "cell_type": "code",
      "source": [
        "#Task 8:\n",
        "course = \"We are learning python\"\n",
        "print(course[::-1])"
      ],
      "metadata": {
        "colab": {
          "base_uri": "https://localhost:8080/"
        },
        "id": "okngLwNT1EpG",
        "outputId": "4438faad-7b40-4bfa-d785-0f41d0b63232"
      },
      "execution_count": 19,
      "outputs": [
        {
          "output_type": "stream",
          "name": "stdout",
          "text": [
            "nohtyp gninrael era eW\n"
          ]
        }
      ]
    },
    {
      "cell_type": "code",
      "source": [
        "#Task 9:\n",
        "code= input(\"enter any sentence: \")\n",
        "print(code.replace(\"Python\", \"Java\"))"
      ],
      "metadata": {
        "colab": {
          "base_uri": "https://localhost:8080/"
        },
        "id": "XP2VnX6B2xYI",
        "outputId": "fc75fe0b-15de-46fd-9bb1-ba088e1233f7"
      },
      "execution_count": 28,
      "outputs": [
        {
          "output_type": "stream",
          "name": "stdout",
          "text": [
            "enter any sentence: \"I like Python because Python is simple and Python is useful.\"\n",
            "\"I like Java because Java is simple and Java is useful.\"\n"
          ]
        }
      ]
    },
    {
      "cell_type": "code",
      "source": [],
      "metadata": {
        "id": "20eQDZLa5omd"
      },
      "execution_count": 22,
      "outputs": []
    }
  ]
}